{
 "cells": [
  {
   "cell_type": "markdown",
   "id": "e31833a6",
   "metadata": {},
   "source": [
    "# Título\n",
    "## subtítulo\n",
    "texto, texto, texto shift + enter para ejecutar la línea (pasa a la linea de abajo) alt+enter (crea nueva celda)"
   ]
  },
  {
   "cell_type": "code",
   "execution_count": 4,
   "id": "55a5afbd",
   "metadata": {},
   "outputs": [],
   "source": [
    "## this line, was created by default of jupyter notebook tool \n",
    "##ctrl +s para guardar"
   ]
  },
  {
   "cell_type": "code",
   "execution_count": 2,
   "id": "85aa373c",
   "metadata": {},
   "outputs": [
    {
     "name": "stdout",
     "output_type": "stream",
     "text": [
      "hello world\n"
     ]
    }
   ],
   "source": [
    "print('hello world')"
   ]
  },
  {
   "cell_type": "code",
   "execution_count": null,
   "id": "18f015db",
   "metadata": {},
   "outputs": [],
   "source": []
  }
 ],
 "metadata": {
  "kernelspec": {
   "display_name": "Python 3 (ipykernel)",
   "language": "python",
   "name": "python3"
  },
  "language_info": {
   "codemirror_mode": {
    "name": "ipython",
    "version": 3
   },
   "file_extension": ".py",
   "mimetype": "text/x-python",
   "name": "python",
   "nbconvert_exporter": "python",
   "pygments_lexer": "ipython3",
   "version": "3.10.7"
  }
 },
 "nbformat": 4,
 "nbformat_minor": 5
}
