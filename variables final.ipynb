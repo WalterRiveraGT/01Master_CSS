{
 "cells": [
  {
   "cell_type": "markdown",
   "id": "dfd97de6",
   "metadata": {},
   "source": [
    "# Uso de variables en python"
   ]
  },
  {
   "cell_type": "code",
   "execution_count": 71,
   "id": "1faf771b",
   "metadata": {},
   "outputs": [
    {
     "name": "stdout",
     "output_type": "stream",
     "text": [
      "hello world\n"
     ]
    }
   ],
   "source": [
    "print(\"hello world\")"
   ]
  },
  {
   "cell_type": "code",
   "execution_count": 72,
   "id": "be0dd6bb",
   "metadata": {},
   "outputs": [],
   "source": [
    "ejemplo=20+20"
   ]
  },
  {
   "cell_type": "code",
   "execution_count": 73,
   "id": "7f1a22c6",
   "metadata": {},
   "outputs": [
    {
     "name": "stdout",
     "output_type": "stream",
     "text": [
      "40\n"
     ]
    }
   ],
   "source": [
    "print (ejemplo)"
   ]
  },
  {
   "cell_type": "markdown",
   "id": "9c053b57",
   "metadata": {},
   "source": [
    "# Reglas de las variables"
   ]
  },
  {
   "cell_type": "code",
   "execution_count": 74,
   "id": "dcd1649a",
   "metadata": {},
   "outputs": [
    {
     "name": "stdout",
     "output_type": "stream",
     "text": [
      "variable de tipo numérica entera, conviertiéndola a string para mostrarla con este texto: 350\n",
      "\n",
      "\n",
      "El que persevera, alcanza\n"
     ]
    }
   ],
   "source": [
    "##No hay necesidad de indicar el tipo de dato\n",
    "numero=100+250\n",
    "frase=\"El que persevera, alcanza\"\n",
    "decimal=10.88+19.99\n",
    "letra='l'\n",
    "print(\"variable de tipo numérica entera, conviertiéndola a string para mostrarla con este texto: \"+str(numero)) \n",
    "print(\"\\n\")\n",
    "print(frase)"
   ]
  },
  {
   "cell_type": "markdown",
   "id": "9991f9ac",
   "metadata": {},
   "source": [
    "## Las variables son case sensitive"
   ]
  },
  {
   "cell_type": "code",
   "execution_count": 75,
   "id": "1a6d5710",
   "metadata": {},
   "outputs": [
    {
     "name": "stdout",
     "output_type": "stream",
     "text": [
      "Este es el valor de la variable Variable_1: variable primera\n"
     ]
    }
   ],
   "source": [
    "Variable_1=\"variable primera\"\n",
    "variable_1=\"variable segunda\"\n",
    "print(\"Este es el valor de la variable Variable_1: \"+Variable_1)"
   ]
  },
  {
   "cell_type": "code",
   "execution_count": 76,
   "id": "500f3ceb",
   "metadata": {},
   "outputs": [
    {
     "name": "stdout",
     "output_type": "stream",
     "text": [
      "valor de la 2da. variable:   variable segunda\n"
     ]
    }
   ],
   "source": [
    "print(\"valor de la 2da. variable:   \"+variable_1)"
   ]
  },
  {
   "cell_type": "code",
   "execution_count": 77,
   "id": "494f9ecd",
   "metadata": {},
   "outputs": [],
   "source": [
    "##las variables deben conmenzar con algun caracter del alfabeto, no pueden iniciar con numeros o caracteres especiales"
   ]
  },
  {
   "cell_type": "markdown",
   "id": "09c645cd",
   "metadata": {},
   "source": [
    "## Datos numéricos"
   ]
  },
  {
   "cell_type": "code",
   "execution_count": 70,
   "id": "225ddda6",
   "metadata": {},
   "outputs": [
    {
     "name": "stdout",
     "output_type": "stream",
     "text": [
      "número entero: \n",
      "\n",
      "1\n",
      "número flotante convirtiéndolo en string:\f\n",
      "2.5\n",
      "\n"
     ]
    }
   ],
   "source": [
    "##enteros:\n",
    "enteros=1\n",
    "##flotantes\n",
    "flotante=5/2\n",
    "\n",
    "print(\"número entero: \\n\")\n",
    "print(enteros)\n",
    "print(\"número flotante convirtiéndolo en string:\\f\")\n",
    "print(str(flotante)+\"\\n\")"
   ]
  }
 ],
 "metadata": {
  "kernelspec": {
   "display_name": "Python 3.10.7 64-bit",
   "language": "python",
   "name": "python3"
  },
  "language_info": {
   "codemirror_mode": {
    "name": "ipython",
    "version": 3
   },
   "file_extension": ".py",
   "mimetype": "text/x-python",
   "name": "python",
   "nbconvert_exporter": "python",
   "pygments_lexer": "ipython3",
   "version": "3.10.7"
  },
  "vscode": {
   "interpreter": {
    "hash": "3dbf2fdd3bf08fe7555de09ff150e50715bda0a39e2870bf53f93eb7123cd365"
   }
  }
 },
 "nbformat": 4,
 "nbformat_minor": 5
}
