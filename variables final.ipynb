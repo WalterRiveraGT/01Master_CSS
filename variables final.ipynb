{
 "cells": [
  {
   "cell_type": "markdown",
   "id": "dfd97de6",
   "metadata": {},
   "source": [
    "# Uso de variables en python"
   ]
  },
  {
   "cell_type": "code",
   "execution_count": 2,
   "id": "1faf771b",
   "metadata": {},
   "outputs": [
    {
     "name": "stdout",
     "output_type": "stream",
     "text": [
      "hello world\n"
     ]
    }
   ],
   "source": [
    "print(\"hello world\")"
   ]
  },
  {
   "cell_type": "code",
   "execution_count": 3,
   "id": "be0dd6bb",
   "metadata": {},
   "outputs": [],
   "source": [
    "ejemplo=20+20"
   ]
  },
  {
   "cell_type": "code",
   "execution_count": 5,
   "id": "7f1a22c6",
   "metadata": {},
   "outputs": [
    {
     "name": "stdout",
     "output_type": "stream",
     "text": [
      "40\n"
     ]
    }
   ],
   "source": [
    "print (ejemplo)"
   ]
  },
  {
   "cell_type": "markdown",
   "id": "9c053b57",
   "metadata": {},
   "source": [
    "# Reglas de las variables"
   ]
  },
  {
   "cell_type": "code",
   "execution_count": 15,
   "id": "dcd1649a",
   "metadata": {},
   "outputs": [
    {
     "name": "stdout",
     "output_type": "stream",
     "text": [
      "variable de tipo numérica entera, conviertiéndola a string para mostrarla con este texto: 350\n",
      "\n",
      "\n",
      "El que persevera, alcanza\n"
     ]
    }
   ],
   "source": [
    "##No hay necesidad de indicar el tipo de dato\n",
    "numero=100+250\n",
    "frase=\"El que persevera, alcanza\"\n",
    "decimal=10.88+19.99\n",
    "letra='l'\n",
    "print(\"variable de tipo numérica entera, conviertiéndola a string para mostrarla con este texto: \"+str(numero)) \n",
    "print(\"\\n\")\n",
    "print(frase)"
   ]
  },
  {
   "cell_type": "markdown",
   "id": "9991f9ac",
   "metadata": {},
   "source": [
    "## Las variables son case sensitive"
   ]
  },
  {
   "cell_type": "code",
   "execution_count": null,
   "id": "1a6d5710",
   "metadata": {},
   "outputs": [],
   "source": []
  }
 ],
 "metadata": {
  "kernelspec": {
   "display_name": "Python 3 (ipykernel)",
   "language": "python",
   "name": "python3"
  },
  "language_info": {
   "codemirror_mode": {
    "name": "ipython",
    "version": 3
   },
   "file_extension": ".py",
   "mimetype": "text/x-python",
   "name": "python",
   "nbconvert_exporter": "python",
   "pygments_lexer": "ipython3",
   "version": "3.10.7"
  }
 },
 "nbformat": 4,
 "nbformat_minor": 5
}
