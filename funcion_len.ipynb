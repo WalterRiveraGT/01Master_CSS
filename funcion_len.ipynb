{
 "cells": [
  {
   "cell_type": "code",
   "execution_count": 6,
   "metadata": {},
   "outputs": [],
   "source": [
    "##función len\n",
    "cadena=\" november rain Guns & Roses\""
   ]
  },
  {
   "cell_type": "markdown",
   "metadata": {},
   "source": [
    "### Función LEN en python \n",
    "Permite averiguar la longitud de una cadena de texto, lista, tupla, etc."
   ]
  },
  {
   "cell_type": "code",
   "execution_count": 7,
   "metadata": {},
   "outputs": [
    {
     "name": "stdout",
     "output_type": "stream",
     "text": [
      "el tamaño de la cadena es:  27\n"
     ]
    }
   ],
   "source": [
    "\n",
    "fun=len(cadena)\n",
    "print(\"el tamaño de la cadena es:  \"+str(fun))"
   ]
  }
 ],
 "metadata": {
  "kernelspec": {
   "display_name": "Python 3.10.7 64-bit",
   "language": "python",
   "name": "python3"
  },
  "language_info": {
   "codemirror_mode": {
    "name": "ipython",
    "version": 3
   },
   "file_extension": ".py",
   "mimetype": "text/x-python",
   "name": "python",
   "nbconvert_exporter": "python",
   "pygments_lexer": "ipython3",
   "version": "3.10.7"
  },
  "orig_nbformat": 4,
  "vscode": {
   "interpreter": {
    "hash": "3dbf2fdd3bf08fe7555de09ff150e50715bda0a39e2870bf53f93eb7123cd365"
   }
  }
 },
 "nbformat": 4,
 "nbformat_minor": 2
}
